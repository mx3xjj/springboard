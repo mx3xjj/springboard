{
 "cells": [
  {
   "cell_type": "markdown",
   "metadata": {},
   "source": [
    "# Examining Racial Discrimination in the US Job Market\n",
    "\n",
    "### Background\n",
    "Racial discrimination continues to be pervasive in cultures throughout the world. Researchers examined the level of racial discrimination in the United States labor market by randomly assigning identical résumés to black-sounding or white-sounding names and observing the impact on requests for interviews from employers.\n",
    "\n",
    "### Data\n",
    "In the dataset provided, each row represents a resume. The 'race' column has two values, 'b' and 'w', indicating black-sounding and white-sounding. The column 'call' has two values, 1 and 0, indicating whether the resume received a call from employers or not.\n",
    "\n",
    "Note that the 'b' and 'w' values in race are assigned randomly to the resumes when presented to the employer."
   ]
  },
  {
   "cell_type": "markdown",
   "metadata": {},
   "source": [
    "### Exercises\n",
    "You will perform a statistical analysis to establish whether race has a significant impact on the rate of callbacks for resumes.\n",
    "\n",
    "Answer the following questions **in this notebook below and submit to your Github account**. \n",
    "\n",
    "   1. What test is appropriate for this problem? Does CLT apply?\n",
    "   2. What are the null and alternate hypotheses?\n",
    "   3. Compute margin of error, confidence interval, and p-value.\n",
    "   4. Write a story describing the statistical significance in the context or the original problem.\n",
    "   5. Does your analysis mean that race/name is the most important factor in callback success? Why or why not? If not, how would you amend your analysis?\n",
    "\n",
    "You can include written notes in notebook cells using Markdown: \n",
    "   - In the control panel at the top, choose Cell > Cell Type > Markdown\n",
    "   - Markdown syntax: http://nestacms.com/docs/creating-content/markdown-cheat-sheet\n",
    "\n",
    "\n",
    "#### Resources\n",
    "+ Experiment information and data source: http://www.povertyactionlab.org/evaluation/discrimination-job-market-united-states\n",
    "+ Scipy statistical methods: http://docs.scipy.org/doc/scipy/reference/stats.html \n",
    "+ Markdown syntax: http://nestacms.com/docs/creating-content/markdown-cheat-sheet\n",
    "\n",
    "****"
   ]
  },
  {
   "cell_type": "markdown",
   "metadata": {},
   "source": [
    "## Exercises"
   ]
  },
  {
   "cell_type": "code",
   "execution_count": 3,
   "metadata": {},
   "outputs": [],
   "source": [
    "import pandas as pd\n",
    "import numpy as np\n",
    "from scipy import stats"
   ]
  },
  {
   "cell_type": "code",
   "execution_count": 4,
   "metadata": {},
   "outputs": [],
   "source": [
    "data = pd.io.stata.read_stata('data/us_job_market_discrimination.dta')"
   ]
  },
  {
   "cell_type": "code",
   "execution_count": 5,
   "metadata": {},
   "outputs": [
    {
     "data": {
      "text/plain": [
       "157.0"
      ]
     },
     "execution_count": 5,
     "metadata": {},
     "output_type": "execute_result"
    }
   ],
   "source": [
    "# number of callbacks for black-sounding names\n",
    "sum(data[data.race=='b'].call)"
   ]
  },
  {
   "cell_type": "markdown",
   "metadata": {},
   "source": [
    "### Q1: What test is appropriate for this problem? Does CLT apply?\n",
    "- this problem check for whether race has a significant impact on the rate of callbacks for resumes, the relation between two categorical variables, so use **Pearson's $\\chi^2$ test**.\n",
    "- CLT applies. This is a sufficiently large set of identically distributed independent random variables. Each of these data points if independent and drawn from the same probability distribution."
   ]
  },
  {
   "cell_type": "code",
   "execution_count": 7,
   "metadata": {},
   "outputs": [
    {
     "name": "stdout",
     "output_type": "stream",
     "text": [
      "sample size is  4870\n"
     ]
    }
   ],
   "source": [
    "# check sample size\n",
    "print('sample size is ',data.shape[0])"
   ]
  },
  {
   "cell_type": "markdown",
   "metadata": {},
   "source": [
    "### Q2: What are the null and alternate hypotheses?\n",
    "- null hypothsis: race and callback rate is independent\n",
    "- alternate hyposisi: race and callback rate is not independent (related)"
   ]
  },
  {
   "cell_type": "markdown",
   "metadata": {},
   "source": [
    "### Q3: Compute margin of error, confidence interval, and p-value.\n"
   ]
  },
  {
   "cell_type": "code",
   "execution_count": 6,
   "metadata": {},
   "outputs": [],
   "source": [
    "def summarize(x):\n",
    "    mu, s, n = x.mean(), x.std(), len(x)\n",
    "    sem = stats.sem(x)\n",
    "    CI = stats.norm.interval(0.90, mu, sem)\n",
    "    print ('Sample mean:             {mu:0.2f}\\n'\n",
    "           'Sample variance:         {v:0.3f}\\n'\n",
    "           'Sample margin of error:  {sem:0.4f}\\n'\n",
    "           '90% confidence interval: {CI}'\n",
    "           .format(mu=mu, v=s**2, sem=sem, CI=CI))"
   ]
  },
  {
   "cell_type": "code",
   "execution_count": 7,
   "metadata": {},
   "outputs": [
    {
     "name": "stdout",
     "output_type": "stream",
     "text": [
      "Sample mean:             0.06\n",
      "Sample variance:         0.060\n",
      "Sample margin of error:  0.0050\n",
      "90% confidence interval: (0.05628806842760025, 0.07266470299764693)\n"
     ]
    }
   ],
   "source": [
    "summarize(data[data.race=='b'].call)"
   ]
  },
  {
   "cell_type": "code",
   "execution_count": 8,
   "metadata": {},
   "outputs": [
    {
     "name": "stdout",
     "output_type": "stream",
     "text": [
      "Sample mean:             0.10\n",
      "Sample variance:         0.087\n",
      "Sample margin of error:  0.0060\n",
      "90% confidence interval: (0.08666429585560362, 0.10635418527976473)\n"
     ]
    }
   ],
   "source": [
    "summarize(data[data.race=='w'].call)"
   ]
  },
  {
   "cell_type": "markdown",
   "metadata": {},
   "source": [
    "To get the p-value from performing the **Pearson's $\\chi^2$ test**, first compute the contingency table:"
   ]
  },
  {
   "cell_type": "code",
   "execution_count": 9,
   "metadata": {},
   "outputs": [
    {
     "data": {
      "text/html": [
       "<div>\n",
       "<style scoped>\n",
       "    .dataframe tbody tr th:only-of-type {\n",
       "        vertical-align: middle;\n",
       "    }\n",
       "\n",
       "    .dataframe tbody tr th {\n",
       "        vertical-align: top;\n",
       "    }\n",
       "\n",
       "    .dataframe thead th {\n",
       "        text-align: right;\n",
       "    }\n",
       "</style>\n",
       "<table border=\"1\" class=\"dataframe\">\n",
       "  <thead>\n",
       "    <tr style=\"text-align: right;\">\n",
       "      <th>call</th>\n",
       "      <th>False</th>\n",
       "      <th>True</th>\n",
       "    </tr>\n",
       "    <tr>\n",
       "      <th>race</th>\n",
       "      <th></th>\n",
       "      <th></th>\n",
       "    </tr>\n",
       "  </thead>\n",
       "  <tbody>\n",
       "    <tr>\n",
       "      <th>b</th>\n",
       "      <td>2278</td>\n",
       "      <td>157</td>\n",
       "    </tr>\n",
       "    <tr>\n",
       "      <th>w</th>\n",
       "      <td>2200</td>\n",
       "      <td>235</td>\n",
       "    </tr>\n",
       "  </tbody>\n",
       "</table>\n",
       "</div>"
      ],
      "text/plain": [
       "call  False  True \n",
       "race              \n",
       "b      2278    157\n",
       "w      2200    235"
      ]
     },
     "execution_count": 9,
     "metadata": {},
     "output_type": "execute_result"
    }
   ],
   "source": [
    "df = pd.DataFrame([data.race, data.call==1.0], ['race', 'call']).transpose()\n",
    "df['values'] = 1\n",
    "contingency_table = pd.pivot_table(df, values='values', index='race', columns=['call'], aggfunc=np.sum)\n",
    "contingency_table"
   ]
  },
  {
   "cell_type": "markdown",
   "metadata": {},
   "source": [
    "According to the [wikipedia article](https://en.wikipedia.org/wiki/Pearson%27s_chi-squared_test#Problems), the $\\chi^2$ test\n",
    "\n",
    ">will normally be acceptable so long as no more than 20% of the events have expected frequencies below 5. Where there is only 1 degree of freedom, the approximation is not reliable if expected frequencies are below 10.\n",
    "\n",
    "And for this test, the expected frequencies are all greater then 10, the central limit theorem applies and we can use the approximation. Setting theshold value $\\alpha = 0.05$, the test will give:"
   ]
  },
  {
   "cell_type": "code",
   "execution_count": 11,
   "metadata": {},
   "outputs": [],
   "source": [
    "def chi2_test(x):\n",
    "    chi2, p, dof, expected = stats.chi2_contingency(x)\n",
    "    print('Test statistic:     {chi2:0.02f}\\n'\n",
    "          'Degrees of freedom: {dof}\\n'\n",
    "          'p value:            {p:0.2e}'.format(chi2=chi2, p=p, dof=dof))"
   ]
  },
  {
   "cell_type": "code",
   "execution_count": 13,
   "metadata": {},
   "outputs": [
    {
     "name": "stdout",
     "output_type": "stream",
     "text": [
      "Test statistic:     16.45\n",
      "Degrees of freedom: 1\n",
      "p value:            5.00e-05\n"
     ]
    }
   ],
   "source": [
    "chi2_test(contingency_table)"
   ]
  },
  {
   "cell_type": "markdown",
   "metadata": {},
   "source": [
    "Since $p < \\alpha$, reject the null hypothesis.\n",
    "\n",
    "Then to quantify the observed dependence effect size, calculate odds ratio:"
   ]
  },
  {
   "cell_type": "code",
   "execution_count": 14,
   "metadata": {},
   "outputs": [
    {
     "name": "stdout",
     "output_type": "stream",
     "text": [
      "Odds ratio: 1.55\n"
     ]
    }
   ],
   "source": [
    "odds_ratio = (235/2200) / (157/2278)\n",
    "print('Odds ratio: {odds_ratio:0.2f}'.format(odds_ratio=odds_ratio))"
   ]
  },
  {
   "cell_type": "markdown",
   "metadata": {},
   "source": [
    "This means the odds that a person with a 'white' name will receive a callback are 1.55 times the odds that a person with a 'black' name."
   ]
  },
  {
   "cell_type": "markdown",
   "metadata": {},
   "source": [
    "### Q4: Write a story describing the statistical significance in the context or the original problem.\n",
    "\n",
    "p-value means the probability of getting at least as extreme as the observed given null hypothsis is true. In this case, p-value is 5.00*e-05, very small, and definitely smaller than the critical value (0.05) set. So we reject the null hypothesis, and conclude that there is a statistically siginificant relationship between race and callback rate. "
   ]
  },
  {
   "cell_type": "markdown",
   "metadata": {},
   "source": [
    "### Q5: Does your analysis mean that race/name is the most important factor in callback success? Why or why not? If not, how would you amend your analysis?\n",
    "\n",
    "No, this test is not enough for concluding that race/name is the most important factor in callback success. Actually, this test has nothing to do with to test race/name importance on callback success, all it indicates is just that there is a sigificiant relationship between race/name and callback rate.\n",
    "\n",
    "If finding the most important factor in callback success is the goal for the test, then the problem becomes much more complicated. One way this could be achieved may be through the data modeling to build the model for predicting the callback success (e.g.logistic regression) and then based on the model eatablished to assess the importance of its dependend factors. The other ways may include traditional statistics based analysis like predictive factor analysis, etc."
   ]
  },
  {
   "cell_type": "code",
   "execution_count": null,
   "metadata": {
    "collapsed": true
   },
   "outputs": [],
   "source": []
  }
 ],
 "metadata": {
  "kernelspec": {
   "display_name": "Python 3",
   "language": "python",
   "name": "python3"
  },
  "language_info": {
   "codemirror_mode": {
    "name": "ipython",
    "version": 3
   },
   "file_extension": ".py",
   "mimetype": "text/x-python",
   "name": "python",
   "nbconvert_exporter": "python",
   "pygments_lexer": "ipython3",
   "version": "3.6.4"
  }
 },
 "nbformat": 4,
 "nbformat_minor": 1
}
